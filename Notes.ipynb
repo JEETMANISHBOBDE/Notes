{
  "nbformat": 4,
  "nbformat_minor": 0,
  "metadata": {
    "colab": {
      "provenance": [],
      "authorship_tag": "ABX9TyMykXz5Xs+Xuu+aevi4vUcP",
      "include_colab_link": true
    },
    "kernelspec": {
      "name": "python3",
      "display_name": "Python 3"
    },
    "language_info": {
      "name": "python"
    }
  },
  "cells": [
    {
      "cell_type": "markdown",
      "metadata": {
        "id": "view-in-github",
        "colab_type": "text"
      },
      "source": [
        "<a href=\"https://colab.research.google.com/github/JEETMANISHBOBDE/Notes/blob/main/Notes.ipynb\" target=\"_parent\"><img src=\"https://colab.research.google.com/assets/colab-badge.svg\" alt=\"Open In Colab\"/></a>"
      ]
    },
    {
      "cell_type": "code",
      "execution_count": null,
      "metadata": {
        "id": "55pcKfAD7Bry"
      },
      "outputs": [],
      "source": [
        "import os\n",
        "#getting input from user for note title\n",
        "def get_note_title():\n",
        "    print(\"Please enter your note title:\")\n",
        "    title = input()\n",
        "    return title\n",
        "#getting input from user for note description\n",
        "def get_note_description():\n",
        "    print(\"Please enter your note description:\")\n",
        "    description = input()\n",
        "    return description\n",
        "#create note option\n",
        "def create_note(title, description):\n",
        "    if not os.path.exists('notes'):\n",
        "        os.makedirs('notes')\n",
        "    with open(f'notes/{title}.txt', 'w') as file:\n",
        "        file.write(description)\n",
        "#view notes\n",
        "def view_notes():\n",
        "    for filename in os.listdir('notes'):\n",
        "        with open(f'notes/{filename}', 'r') as file:\n",
        "            print(f\"Note: {filename}\")\n",
        "            print(file.read())\n",
        "            print(\"---------------------\")\n",
        "#Options which are going to be displayed\n",
        "while True:\n",
        "    print(\"\\n1. Create a note\")\n",
        "    print(\"2. View notes\")\n",
        "    print(\"3. Exit\")\n",
        "    option = input(\"Please select an option: \")\n",
        "#After choosing options,these will be printed\n",
        "    if option == '1':\n",
        "        title = get_note_title()\n",
        "        description = get_note_description()\n",
        "        create_note(title, description)\n",
        "        print(\"\\nNote created successfully!\\n\")\n",
        "\n",
        "    elif option == '2':\n",
        "        view_notes()\n",
        "\n",
        "    elif option == '3':\n",
        "        print(\"\\nTHANK YOU....\\n\")\n",
        "        break\n",
        "\n",
        "    else:\n",
        "        print(\"\\nInvalid option, please try again.\\n\")"
      ]
    }
  ]
}